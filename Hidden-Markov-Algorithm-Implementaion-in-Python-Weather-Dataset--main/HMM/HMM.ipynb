{
 "cells": [
  {
   "cell_type": "code",
   "execution_count": 30,
   "id": "c6979c7c",
   "metadata": {},
   "outputs": [],
   "source": [
    "obs = (\"walk\", \"shop\", \"clean\")\n",
    "states = (\"Rainy\", \"Sunny\")\n",
    "start_p = {\"Rainy\": 0.6, \"Sunny\": 0.4}\n",
    "trans_p = {\n",
    "    \"Rainy\": {\"Rainy\": 0.7, \"Sunny\": 0.3},\n",
    "    \"Sunny\": {\"Rainy\": 0.4, \"Sunny\": 0.6},\n",
    "}\n",
    "emit_p = {\n",
    "   'Rainy' : {'walk': 0.1, 'shop': 0.4, 'clean': 0.5},\n",
    "   'Sunny' : {'walk': 0.6, 'shop': 0.3, 'clean': 0.1},\n",
    "   }"
   ]
  },
  {
   "cell_type": "code",
   "execution_count": 31,
   "id": "81903e38",
   "metadata": {},
   "outputs": [
    {
     "name": "stdout",
     "output_type": "stream",
     "text": [
      "       0       1       2\n",
      "Rainy: 0.06000 0.03840 0.01344\n",
      "Sunny: 0.24000 0.04320 0.00259\n",
      "The steps of states are Sunny Rainy Rainy with highest probability of 0.01344\n"
     ]
    }
   ],
   "source": [
    "def viterbi(obs, states, start_p, trans_p, emit_p):\n",
    "    V = [{}]\n",
    "    for st in states:\n",
    "        V[0] [st] = {\"prob\": start_p[st] * emit_p[st] [obs[0]], \"prev\": None}\n",
    "    # Run Viterbi when t > 0\n",
    "    for t in range(1, len(obs)):\n",
    "        V.append({})\n",
    "        for st in states:\n",
    "            max_tr_prob = V[t - 1] [states[0]] [\"prob\"] * trans_p[states[0]] [st]\n",
    "            prev_st_selected = states[0]\n",
    "            for prev_st in states[1:]:\n",
    "                tr_prob = V[t - 1] [prev_st] [\"prob\"] * trans_p[prev_st] [st]\n",
    "                if tr_prob > max_tr_prob:\n",
    "                    max_tr_prob = tr_prob\n",
    "                    prev_st_selected = prev_st\n",
    "\n",
    "            max_prob = max_tr_prob * emit_p[st] [obs[t]]\n",
    "            V[t] [st] = {\"prob\": max_prob, \"prev\": prev_st_selected}\n",
    "\n",
    "    for line in dptable(V):\n",
    "        print(line)\n",
    "\n",
    "    opt = []\n",
    "    max_prob = 0.0\n",
    "    best_st = None\n",
    "    # Get most probable state and its backtrack\n",
    "    for st, data in V[-1].items():\n",
    "        if data[\"prob\"] > max_prob:\n",
    "            max_prob = data[\"prob\"]\n",
    "            best_st = st\n",
    "    opt.append(best_st)\n",
    "    previous = best_st\n",
    "\n",
    "    # Follow the backtrack till the first observation\n",
    "    for t in range(len(V) - 2, -1, -1):\n",
    "        opt.insert(0, V[t + 1] [previous] [\"prev\"])\n",
    "        previous = V[t + 1] [previous] [\"prev\"]\n",
    "\n",
    "    print (\"The steps of states are \" + \" \".join(opt) + \" with highest probability of %s\" % max_prob)\n",
    "\n",
    "def dptable(V):\n",
    "    # Print a table of steps from dictionary\n",
    "    yield \" \" * 5 + \"     \".join((\"%3d\" % i) for i in range(len(V)))\n",
    "    for state in V[0]:\n",
    "        yield \"%.7s: \" % state + \" \".join(\"%.7s\" % (\"%lf\" % v[state] [\"prob\"]) for v in V)\n",
    "viterbi(obs,states,start_p,trans_p,emit_p)"
   ]
  }
 ],
 "metadata": {
  "kernelspec": {
   "display_name": "Python 3 (ipykernel)",
   "language": "python",
   "name": "python3"
  },
  "language_info": {
   "codemirror_mode": {
    "name": "ipython",
    "version": 3
   },
   "file_extension": ".py",
   "mimetype": "text/x-python",
   "name": "python",
   "nbconvert_exporter": "python",
   "pygments_lexer": "ipython3",
   "version": "3.9.12"
  }
 },
 "nbformat": 4,
 "nbformat_minor": 5
}
